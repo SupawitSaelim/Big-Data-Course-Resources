{
  "nbformat": 4,
  "nbformat_minor": 0,
  "metadata": {
    "colab": {
      "provenance": [],
      "gpuType": "T4"
    },
    "kernelspec": {
      "name": "python3",
      "display_name": "Python 3"
    },
    "language_info": {
      "name": "python"
    },
    "accelerator": "GPU"
  },
  "cells": [
    {
      "cell_type": "code",
      "execution_count": 1,
      "metadata": {
        "colab": {
          "base_uri": "https://localhost:8080/"
        },
        "id": "1hmrl0KX8AGe",
        "outputId": "f88d4040-7f0e-42f9-b35d-7920539419bf"
      },
      "outputs": [
        {
          "output_type": "stream",
          "name": "stdout",
          "text": [
            "Collecting pyspark\n",
            "  Downloading pyspark-3.5.3.tar.gz (317.3 MB)\n",
            "\u001b[2K     \u001b[90m━━━━━━━━━━━━━━━━━━━━━━━━━━━━━━━━━━━━━━━━\u001b[0m \u001b[32m317.3/317.3 MB\u001b[0m \u001b[31m4.4 MB/s\u001b[0m eta \u001b[36m0:00:00\u001b[0m\n",
            "\u001b[?25h  Preparing metadata (setup.py) ... \u001b[?25l\u001b[?25hdone\n",
            "Requirement already satisfied: py4j==0.10.9.7 in /usr/local/lib/python3.10/dist-packages (from pyspark) (0.10.9.7)\n",
            "Building wheels for collected packages: pyspark\n",
            "  Building wheel for pyspark (setup.py) ... \u001b[?25l\u001b[?25hdone\n",
            "  Created wheel for pyspark: filename=pyspark-3.5.3-py2.py3-none-any.whl size=317840625 sha256=28be4cc2317fc42ffd20b052d6b12424c0af8a8113f21b00e5a210a0ab7cbdd8\n",
            "  Stored in directory: /root/.cache/pip/wheels/1b/3a/92/28b93e2fbfdbb07509ca4d6f50c5e407f48dce4ddbda69a4ab\n",
            "Successfully built pyspark\n",
            "Installing collected packages: pyspark\n",
            "Successfully installed pyspark-3.5.3\n"
          ]
        }
      ],
      "source": [
        "!apt-get install openjdk-8-jdk-headless -qq > /dev/null\n",
        "!pip install pyspark\n"
      ]
    },
    {
      "cell_type": "code",
      "source": [
        "# Import necessary libraries\n",
        "from pyspark.sql import SparkSession\n",
        "from pyspark.sql.types import IntegerType\n",
        "from pyspark.sql.functions import trim, col\n",
        "from pyspark.ml.feature import Tokenizer, StopWordsRemover, HashingTF\n",
        "from pyspark.ml import Pipeline\n",
        "from pyspark.ml.classification import LogisticRegression\n",
        "from pyspark.ml.evaluation import MulticlassClassificationEvaluator\n",
        "\n",
        "# Create SparkSession\n",
        "spark = SparkSession.builder \\\n",
        "    .appName(\"Text Analysis Implementation\") \\\n",
        "    .getOrCreate()\n",
        "\n",
        "# Load data from CSV file (update this with the correct file path)\n",
        "data = spark.read.csv(\"/content/reviews_rated.csv\", header=True, inferSchema=True)\n",
        "\n",
        "# Select and preprocess the required columns\n",
        "data = data.select(trim(data['Review Text']).alias('ReviewText'),\n",
        "                   data['Rating'].cast(IntegerType()).alias('Rating'))\n",
        "\n",
        "# Filter out rows where 'ReviewText' or 'Rating' is NULL or NaN\n",
        "data = data.filter((col(\"ReviewText\").isNotNull()) & (col(\"Rating\").isNotNull()))\n",
        "\n",
        "# Show the cleaned data\n",
        "data.show(5)\n",
        "\n",
        "# Create Tokenizer\n",
        "tokenizer = Tokenizer(inputCol=\"ReviewText\", outputCol=\"ReviewTextWords\")\n",
        "\n",
        "# Create StopWordsRemover\n",
        "stop_word_remover = StopWordsRemover(inputCol=tokenizer.getOutputCol(), outputCol=\"MeaningfulWords\")\n",
        "\n",
        "# Create HashingTF\n",
        "hashing_tf = HashingTF(inputCol=stop_word_remover.getOutputCol(), outputCol=\"features\")\n",
        "\n",
        "# Create a pipeline with tokenizer, stop words remover, and hashingTF\n",
        "pipeline = Pipeline(stages=[tokenizer, stop_word_remover, hashing_tf])\n",
        "\n",
        "# Split the data into train and test datasets (80-20 split)\n",
        "train_data, test_data = data.randomSplit([0.8, 0.2], seed=123)\n",
        "\n",
        "# Show the train dataset\n",
        "train_data.show(5)\n",
        "\n",
        "# Fit the pipeline with the train data\n",
        "pipeline_model = pipeline.fit(train_data)\n",
        "\n",
        "# Transform the train and test datasets\n",
        "train_transformed = pipeline_model.transform(train_data)\n",
        "test_transformed = pipeline_model.transform(test_data)\n",
        "\n",
        "# Show the transformed train dataset\n",
        "train_transformed.show(5)\n",
        "\n",
        "# Create LogisticRegression model\n",
        "lr = LogisticRegression(labelCol=\"Rating\", featuresCol=\"features\")\n",
        "\n",
        "# Fit the model to the transformed train dataset\n",
        "lr_model = lr.fit(train_transformed)\n",
        "\n",
        "# Transform the test dataset using the trained LogisticRegression model\n",
        "predictions = lr_model.transform(test_transformed)\n",
        "\n",
        "# Show the meaningful words, label, and prediction columns\n",
        "predictions.select(\"MeaningfulWords\", \"Rating\", \"prediction\").show(5)\n",
        "\n",
        "# Create MulticlassClassificationEvaluator\n",
        "evaluator = MulticlassClassificationEvaluator(labelCol=\"Rating\", predictionCol=\"prediction\", metricName=\"accuracy\")\n",
        "\n",
        "# Calculate the accuracy\n",
        "accuracy = evaluator.evaluate(predictions)\n",
        "\n",
        "# Show the accuracy\n",
        "print(f\"Test Accuracy = {accuracy}\")\n"
      ],
      "metadata": {
        "colab": {
          "base_uri": "https://localhost:8080/"
        },
        "id": "uR_yvMbL8UH6",
        "outputId": "1b367d0d-ed63-4821-8b10-a3dfc19c4192"
      },
      "execution_count": 6,
      "outputs": [
        {
          "output_type": "stream",
          "name": "stdout",
          "text": [
            "+--------------------+------+\n",
            "|          ReviewText|Rating|\n",
            "+--------------------+------+\n",
            "|I registered on t...|     1|\n",
            "|Had multiple orde...|     1|\n",
            "|I informed these ...|     1|\n",
            "|I have bought fro...|     1|\n",
            "|If I could give a...|     1|\n",
            "+--------------------+------+\n",
            "only showing top 5 rows\n",
            "\n",
            "+--------------------+------+\n",
            "|          ReviewText|Rating|\n",
            "+--------------------+------+\n",
            "|\"\" you'r having a...|     1|\n",
            "|\"\"\"Amazon does no...|     1|\n",
            "|\"\"\"Arrive tonight...|     1|\n",
            "|\"\"\"Blue murder\"\" ...|     1|\n",
            "|\"\"\"Extremely frus...|     1|\n",
            "+--------------------+------+\n",
            "only showing top 5 rows\n",
            "\n",
            "+--------------------+------+--------------------+--------------------+--------------------+\n",
            "|          ReviewText|Rating|     ReviewTextWords|     MeaningfulWords|            features|\n",
            "+--------------------+------+--------------------+--------------------+--------------------+\n",
            "|\"\" you'r having a...|     1|[\"\", you'r, havin...|[\"\", you'r, laugh...|(262144,[107802,1...|\n",
            "|\"\"\"Amazon does no...|     1|[\"\"\"amazon, does,...|[\"\"\"amazon, honou...|(262144,[33180,37...|\n",
            "|\"\"\"Arrive tonight...|     1|[\"\"\"arrive, tonig...|[\"\"\"arrive, tonig...|(262144,[3763,193...|\n",
            "|\"\"\"Blue murder\"\" ...|     1|[\"\"\"blue, murder\"...|[\"\"\"blue, murder\"...|(262144,[33065,74...|\n",
            "|\"\"\"Extremely frus...|     1|[\"\"\"extremely, fr...|[\"\"\"extremely, fr...|(262144,[3388,528...|\n",
            "+--------------------+------+--------------------+--------------------+--------------------+\n",
            "only showing top 5 rows\n",
            "\n",
            "+--------------------+------+----------+\n",
            "|     MeaningfulWords|Rating|prediction|\n",
            "+--------------------+------+----------+\n",
            "|[\"\"\"amazon, truly...|     3|       4.0|\n",
            "|[\"\"\"horrible, exp...|     1|       1.0|\n",
            "|[\"\"\"the, earth's,...|     1|       1.0|\n",
            "|[\"\"\"we, publish, ...|     1|       1.0|\n",
            "|[\"........amazon,...|     1|       1.0|\n",
            "+--------------------+------+----------+\n",
            "only showing top 5 rows\n",
            "\n",
            "Test Accuracy = 0.5908018867924528\n"
          ]
        }
      ]
    }
  ]
}